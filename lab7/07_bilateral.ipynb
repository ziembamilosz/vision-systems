{
 "cells": [
  {
   "cell_type": "markdown",
   "metadata": {
    "pycharm": {
     "name": "#%% md\n"
    }
   },
   "source": [
    "# Filtracja bilateralna"
   ]
  },
  {
   "cell_type": "markdown",
   "metadata": {
    "collapsed": false,
    "pycharm": {
     "name": "#%% md\n"
    }
   },
   "source": [
    "## Konwolucja obrazu z filtrem o zadanych współczynnikach\n",
    "\n",
    "Splot (konwolucję) obrazu wejściowego $I$ z filtrem $\\psi$ dla ustalonego punktu obrazu $\\mathbf{x}$ można przedstawić następująco:\n",
    "\n",
    "\\begin{equation}\n",
    "\\hat{I}(\\mathbf{x}) = \\frac{1}{W_N}\\sum_{\\mathbf{p} \\in \\eta(\\mathbf{x})} \\psi(||\\mathbf{p}-\\mathbf{x}||)I(\\mathbf{p})\n",
    "\\tag{1}\n",
    "\\end{equation}\n",
    "\n",
    "gdzie:\n",
    "- $\\hat{I}$ jest obrazem wynikowym (przefiltrowanym),\n",
    "- $W_N = \\sum_y \\psi(y)$ jest parametrem normalizującym współczynniki filtra $\\psi$,\n",
    "- $||\\cdot||$ jest odległością między punktami obrazu $\\mathbf{x}$ i $\\mathbf{p}$ według ustalonej metryki (np. norma $L_2$). Uwaga, proszę pamiętać, że zarówno $\\mathbf{x}$, jak i $\\mathbf{p}$ to współrzędne przestrzenne,\n",
    "- $\\eta(\\mathbf{x})$ jest otoczeniem punktu $\\mathbf{x}$.\n",
    "\n",
    "Funkcja $\\psi$ decyduje o charakterze filtracji. Dla filtru Gaussowskiego:\n",
    "\n",
    "\\begin{equation}\n",
    "\\psi(y) = G_{\\delta_s}(y)\n",
    "\\tag{2}\n",
    "\\end{equation}\n",
    "\n",
    "gdzie: $G_{\\delta_s}(y)$ jest funkcją Gaussa z parametrem skali $\\delta_s$.\n",
    "\n",
    "Opisaną powyżej filtrację realizowaliśmy w ramach ćwiczenia \"Przetwarzanie wstępne. Filtracja kontekstowa.\""
   ]
  },
  {
   "cell_type": "markdown",
   "metadata": {
    "collapsed": false,
    "pycharm": {
     "name": "#%% md\n"
    }
   },
   "source": [
    "## Filtracja bilateralna\n",
    "\n",
    "Wadą klasycznego splotu jest brak adaptacji współczynników filtra do lokalnego otoczenia $\\eta(\\mathbf{x})$ filtrowanego punktu $\\mathbf{x}$.\n",
    "Oznacza to wykorzystanie tych samych współczynników filtra $\\psi$ niezależnie od tego czy otoczenie jest względnie jednorodne lub zawiera krawędzie obiektów (w tym przypadku dochodzi do \"rozmywania\" krawędzi).\n",
    "Filtracja bilateralna uwzględnia lokalne otoczenie filtrowanego punktu, w ten sposób, że parametry filtra zmieniają się w zależności od \"wyglądu\" otoczenia.\n",
    "\n",
    "\n",
    "Współczynniki filtra obliczane są na podstawie odległości filtrowanego punktu $\\mathbf{x}$ od każdego punktu otoczenia $\\mathbf{p}$ w dziedzinie przestrzennej obrazu (tak jak przy typowym filtrze np. Gaussa) oraz odległości punktów w przeciwdziedzinie obrazu (np. na podstawie różnicy w jasności pikseli dla obrazu w odcieniach szarości):\n",
    "\n",
    "\\begin{equation}\n",
    "\\hat{I}(\\mathbf{x}) = \\frac{1}{W_N}\\sum_{\\mathbf{p} \\in \\eta(\\mathbf{x})} \\psi(||\\mathbf{p}-\\mathbf{x}||) \\gamma(|I(\\mathbf{p}) - I(\\mathbf{x})|) I(\\mathbf{p})\n",
    "\\tag{3}\n",
    "\\end{equation}\n",
    "gdzie:\n",
    "- $W_N$ jest współczynnikiem normalizującym filtr,\n",
    "- $\\gamma$ jest funkcją odległości w przeciwdziedzinie obrazu, np. $\\gamma(y)=\\exp(-\\frac{y^2}{2\\delta_r^2})$\n",
    "- parametr $\\delta_r$ jest utożsamiany z poziomem szumu w obrazie i należy go dobrać w sposób empiryczny.\n",
    "\n",
    "Proszę chwilę zastanowić się nad powyższym równaniem, w szczególności nad funkcją $\\gamma$. Proszę wyznaczyć, jaka będzie wartość funkcji dla pikseli podobnych (różnica 0, 1, 2), a skrajnie różnych (255, 200).\n",
    "\n",
    "##  Realizacja ćwiczenia\n",
    "\n",
    "### Wczytanie danych\n",
    "\n",
    "1. Wczytaj dane z pliku *MR_data.mat*. W tym celu wykorzystaj funkcję `loadmat` z pakietu scipy:\n",
    "        from scipy.io import loadmat\n",
    "        mat = loadmat('MR_data.mat')\n",
    "\n",
    "2. Wczytany plik zawiera 5 obrazów: *I_noisefree*, *I_noisy1*, *I_noisy2*, *I_noisy3* oraz *I_noisy4*. Odczytać je można w następujący sposób:\n",
    "        Input = mat['I_noisy1']\n",
    "\n",
    "3. Wyświetl wybrany obraz z pliku *MR_data.mat*. Zagadka - co to za obrazowanie medyczne?"
   ]
  },
  {
   "cell_type": "code",
   "execution_count": null,
   "metadata": {
    "collapsed": false,
    "pycharm": {
     "name": "#%% Zadanie 1 - wyświetlanie\n"
    }
   },
   "outputs": [],
   "source": [
    "from matplotlib import pyplot as plt\n",
    "import numpy as np\n",
    "from scipy.io import loadmat\n",
    "import math\n",
    "import os\n",
    "import cv2\n",
    "import copy\n",
    "\n",
    "if not os.path.exists(\"MR_data.mat\") :\n",
    "    !wget https://raw.githubusercontent.com/vision-agh/poc_sw/master/07_Bilateral/MR_data.mat --no-check-certificate\n",
    "\n",
    "mat = loadmat('MR_data.mat')\n",
    "input1 = mat['I_noisy1']\n",
    "input2 = mat['I_noisy2']\n",
    "input3 = mat['I_noisy3']\n",
    "input4 = mat['I_noisy4']\n",
    "input_noisefree = mat['I_noisefree']\n",
    "\n",
    "plt.figure(figsize=(14, 8))\n",
    "ax = plt.subplot(2, 3, 1)\n",
    "ax.imshow(input1, 'gray')\n",
    "plt.xticks([]), plt.yticks([])\n",
    "ax = plt.subplot(2, 3, 2)\n",
    "ax.imshow(input2, 'gray')\n",
    "plt.xticks([]), plt.yticks([])\n",
    "ax = plt.subplot(2, 3, 3)\n",
    "ax.imshow(input3, 'gray')\n",
    "plt.xticks([]), plt.yticks([])\n",
    "ax = plt.subplot(2, 3, 4)\n",
    "ax.imshow(input4, 'gray')\n",
    "plt.xticks([]), plt.yticks([])\n",
    "ax = plt.subplot(2, 3, 5)\n",
    "ax.imshow(input_noisefree, 'gray')\n",
    "plt.xticks([]), plt.yticks([])\n",
    "plt.show()"
   ]
  },
  {
   "cell_type": "markdown",
   "metadata": {
    "collapsed": false,
    "pycharm": {
     "name": "#%% md\n"
    }
   },
   "source": [
    "### \"Klasyczna\" konwolucja\n",
    "\n",
    "1. Zdefiniuj parametry filtra Gaussowskiego: rozmiar okna i wariancję $\\delta_S$.\n",
    "2. Oblicz współczynniki filtra na podstawie zdefiniowanych parametrów (najprościej w ramach podwójnej pętli for).\n",
    "2. Sprawdź ich poprawność i zwizualizuj filtr (tak jak w ćwiczeniu pt. \"Przetwarzanie wstępne. Filtracja kontekstowa.\").\n",
    "3. Wykonaj kopię obrazu wejściowego: `IConv = Input.copy()`\n",
    "4. Wykonaj podwójną pętlę po obrazie. Pomiń ramkę, dla której nie jest zdefiniowany kontekst o wybranej wielkości.\n",
    "5. W każdej iteracji stwórz dwuwymiarową tablicę zawierającą aktualny kontekst.\n",
    "6. Napisz funkcję, która będzie obliczała nową wartość piksela.\n",
    "Argumentem tej funkcji są aktualnie przetwarzane okno i współczynniki filtra.\n",
    "7. Obliczoną wartość przypisz do odpowiedniego piksela kopii obrazu wejściowego.\n",
    "8. Wyświetl wynik filtracji.\n",
    "9. Porównaj wynik z obrazem oryginalnym."
   ]
  },
  {
   "cell_type": "code",
   "execution_count": null,
   "metadata": {},
   "outputs": [],
   "source": [
    "def get_gausss_filter(window_size, delta_s):\n",
    "    filter = np.zeros(shape=(window_size, window_size))\n",
    "    for i in range(window_size):\n",
    "        for j in range(window_size):\n",
    "            y = np.sqrt(np.power(window_size//2 - i, 2) + np.power(window_size//2 - j, 2))\n",
    "            gauss = np.exp(-(y**2)/(2*(delta_s**2)))\n",
    "            filter[i, j] = gauss\n",
    "    return filter\n",
    "\n",
    "def calculate_pixel(window, gauss_filter):\n",
    "    X, Y = window.shape\n",
    "    pixel = 0\n",
    "    normalization = 0\n",
    "    for i in range(X):\n",
    "        for j in range(Y):\n",
    "            pixel += gauss_filter[i, j]*window[i, j]\n",
    "            normalization += gauss_filter[i, j]\n",
    "    return pixel/normalization\n",
    "\n",
    "def classic_convolution(image, window_size, delta_s):\n",
    "    copied_image = copy.copy(image)\n",
    "    gauss_filter = get_gausss_filter(window_size, delta_s)\n",
    "    X, Y = copied_image.shape\n",
    "    half_of_window_size = window_size//2\n",
    "    for i in range(0+half_of_window_size, X - half_of_window_size):\n",
    "        for j in range(0 + half_of_window_size, Y - half_of_window_size):\n",
    "            window = copied_image[i - half_of_window_size : i + half_of_window_size + 1, j - half_of_window_size : j + half_of_window_size + 1,]\n",
    "            pixel = calculate_pixel(window, gauss_filter)\n",
    "            copied_image[i,j] = pixel\n",
    "    return copied_image    "
   ]
  },
  {
   "cell_type": "code",
   "execution_count": null,
   "metadata": {
    "collapsed": false,
    "pycharm": {
     "name": "#%% Zadanie 2 - konwolucja\n"
    }
   },
   "outputs": [],
   "source": [
    "def plot_results(my_result, cv2_result, original_image):\n",
    "    plt.figure(figsize=(10, 6))\n",
    "    ax = plt.subplot(1, 3, 1)\n",
    "    ax.imshow(my_result, 'gray')\n",
    "    plt.xticks([]), plt.yticks([])\n",
    "    plt.title('Moja funkcja')\n",
    "    ax = plt.subplot(1, 3, 2)\n",
    "    ax.imshow(cv2_result, 'gray')\n",
    "    plt.title('Funkcja z biblioteki cv2')\n",
    "    plt.xticks([]), plt.yticks([])\n",
    "    ax = plt.subplot(1, 3, 3)\n",
    "    ax.imshow(original_image, 'gray')\n",
    "    plt.title('Oryginał')\n",
    "    plt.xticks([]), plt.yticks([])\n",
    "    plt.show()\n",
    "\n",
    "def mesh(fun, size):\n",
    "    fig = plt.figure()\n",
    "    ax = fig.add_subplot(111, projection='3d')\n",
    "    X = np.arange(-size//2, size//2, 1)\n",
    "    Y = np.arange(-size//2, size//2, 1)\n",
    "    X, Y = np.meshgrid(X, Y)\n",
    "    Z = fun\n",
    "    ax.plot_surface(X, Y, Z)\n",
    "    plt.show()\n",
    "\n",
    "mesh(get_gausss_filter(3, 0.2), 3)\n",
    "mesh(get_gausss_filter(5, 0.7), 5)\n",
    "mesh(get_gausss_filter(7, 0.1), 7)\n",
    "\n",
    "window_size = 5\n",
    "delta_s = 0.7\n",
    "input1_gauss = cv2.GaussianBlur(input1, (3, 3), delta_s)\n",
    "for input_image in [input1, input2, input3, input4, input_noisefree]:\n",
    "    plot_results(classic_convolution(input_image, window_size, delta_s), \n",
    "                 cv2.GaussianBlur(input_image, (window_size, window_size), delta_s), input_image)"
   ]
  },
  {
   "cell_type": "markdown",
   "metadata": {
    "collapsed": false,
    "pycharm": {
     "name": "#%% md\n"
    }
   },
   "source": [
    "### Filtracja bilateralna\n",
    "\n",
    "1. Zdefiniuj dodatkowy parametr: wariancję $\\delta_R$.\n",
    "3. Wykonaj kopię obrazu wejściowego: `IBilateral = Input.copy()`\n",
    "4. Wykonaj podwójną pętlę po obrazie. Pomiń ramkę, dla której nie jest zdefiniowany kontekst o wybranej wielkości.\n",
    "5. W każdej iteracji stwórz dwuwymiarową tablicę zawierającą aktualny kontekst.\n",
    "6. Napisz funkcję, która będzie obliczała nową wartość piksela.\n",
    "Argumentami funkcji są aktualnie przetwarzane okno, współczynniki filtra gaussowskiego (takie same jak wcześniej) i wariancja $\\delta_R$.\n",
    "7. Oblicz odległość w przeciwdziedzinie (dla wartości pikseli).\n",
    "8. Oblicz funkcję Gaussa dla obliczonych odległości z zadanym parametrem.\n",
    "9. Wykonaj normalizację obliczonych współczynników.\n",
    "10. Obliczoną wartość przypisz do odpowiedniego piksela kopii obrazu wejściowego.\n",
    "11. Wyświetl wynik filtracji.\n",
    "12. Porównaj wynik z obrazem oryginalnym."
   ]
  },
  {
   "cell_type": "code",
   "execution_count": null,
   "metadata": {},
   "outputs": [],
   "source": [
    "def calculate_pixel_bilateral(window, gauss_filter, delta_r):\n",
    "    X, Y = window.shape\n",
    "    pixel = 0\n",
    "    normalization = 0\n",
    "    for i in range(X):\n",
    "        for j in range(Y):\n",
    "            difference = np.abs(window[X//2, Y//2] - window[i, j])\n",
    "            gauss_gamma = np.exp(-(difference**2)/(2*(delta_r**2)))\n",
    "            pixel += gauss_filter[i, j]*window[i, j]*gauss_gamma\n",
    "            normalization += gauss_filter[i, j]*gauss_gamma\n",
    "    return pixel/normalization\n",
    "\n",
    "def bilateral_convolution(image, window_size, delta_s, delta_r):\n",
    "    copied_image = copy.copy(image)\n",
    "    gauss_filter = get_gausss_filter(window_size, delta_s)\n",
    "    X, Y = copied_image.shape\n",
    "    half_of_window_size = window_size//2\n",
    "    for i in range(0+half_of_window_size, X - half_of_window_size):\n",
    "        for j in range(0 + half_of_window_size, Y - half_of_window_size):\n",
    "            window = copied_image[i - half_of_window_size : i + half_of_window_size + 1, j - half_of_window_size : j + half_of_window_size + 1,]\n",
    "            pixel = calculate_pixel_bilateral(window, gauss_filter, delta_r)\n",
    "            copied_image[i,j] = pixel\n",
    "    return copied_image "
   ]
  },
  {
   "cell_type": "code",
   "execution_count": null,
   "metadata": {
    "collapsed": false,
    "pycharm": {
     "name": "#%%\n"
    }
   },
   "outputs": [],
   "source": [
    "def plot_results(my_result, cv2_result, bilateral_image, original_image):\n",
    "    plt.figure(figsize=(12, 12))\n",
    "    ax = plt.subplot(2, 2, 1)\n",
    "    ax.imshow(my_result, 'gray')\n",
    "    plt.xticks([]), plt.yticks([])\n",
    "    plt.title('Moja funkcja')\n",
    "    ax = plt.subplot(2, 2, 2)\n",
    "    ax.imshow(cv2_result, 'gray')\n",
    "    plt.title('Funkcja z biblioteki cv2')\n",
    "    plt.xticks([]), plt.yticks([])\n",
    "    ax = plt.subplot(2, 2, 3)\n",
    "    ax.imshow(bilateral_image, 'gray')\n",
    "    plt.title('Filtracja bilateralna')\n",
    "    plt.xticks([]), plt.yticks([])\n",
    "    ax = plt.subplot(2, 2, 4)\n",
    "    ax.imshow(original_image, 'gray')\n",
    "    plt.title('Oryginał')\n",
    "    plt.xticks([]), plt.yticks([])\n",
    "    plt.show()"
   ]
  },
  {
   "cell_type": "code",
   "execution_count": null,
   "metadata": {},
   "outputs": [],
   "source": [
    "window_size = 5\n",
    "delta_s = 0.7\n",
    "delta_r = 20\n",
    "plot_results(classic_convolution(input1, window_size, delta_s), \n",
    "            cv2.GaussianBlur(input1, (window_size, window_size), delta_s), \n",
    "            bilateral_convolution(input1, window_size, delta_s, delta_r), input1)"
   ]
  },
  {
   "cell_type": "code",
   "execution_count": null,
   "metadata": {},
   "outputs": [],
   "source": [
    "window_size = 7\n",
    "delta_s = 0.9\n",
    "delta_r = 50\n",
    "plot_results(classic_convolution(input2, window_size, delta_s), \n",
    "            cv2.GaussianBlur(input2, (window_size, window_size), delta_s), \n",
    "            bilateral_convolution(input2, window_size, delta_s, delta_r), input2)"
   ]
  },
  {
   "cell_type": "code",
   "execution_count": null,
   "metadata": {},
   "outputs": [],
   "source": [
    "window_size = 5\n",
    "delta_s = 0.9\n",
    "delta_r = 10\n",
    "plot_results(classic_convolution(input_noisefree, window_size, delta_s), \n",
    "            cv2.GaussianBlur(input_noisefree, (window_size, window_size), delta_s), \n",
    "            bilateral_convolution(input_noisefree, window_size, delta_s, delta_r), input_noisefree)"
   ]
  }
 ],
 "metadata": {
  "kernelspec": {
   "display_name": "Python 3",
   "language": "python",
   "name": "python3"
  },
  "language_info": {
   "codemirror_mode": {
    "name": "ipython",
    "version": 3
   },
   "file_extension": ".py",
   "mimetype": "text/x-python",
   "name": "python",
   "nbconvert_exporter": "python",
   "pygments_lexer": "ipython3",
   "version": "3.8.10"
  }
 },
 "nbformat": 4,
 "nbformat_minor": 4
}

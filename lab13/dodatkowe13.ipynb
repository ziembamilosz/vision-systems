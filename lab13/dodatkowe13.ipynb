{
 "cells": [
  {
   "cell_type": "code",
   "execution_count": null,
   "metadata": {},
   "outputs": [],
   "source": [
    "import os\n",
    "import cv2\n",
    "import matplotlib.pyplot as plt\n",
    "import numpy as np\n",
    "\n",
    "if not os.path.exists('details.png'):\n",
    "    !wget https://raw.githubusercontent.com/vision-agh/poc_sw/master/13_CCL/details.png"
   ]
  },
  {
   "cell_type": "code",
   "execution_count": null,
   "metadata": {},
   "outputs": [],
   "source": [
    "srubki = cv2.imread('details.png', cv2.IMREAD_GRAYSCALE)\n",
    "\n",
    "srubki = np.where(srubki > 230, 80, srubki)\n",
    "srubki_black_hat = cv2.morphologyEx(srubki, cv2.MORPH_BLACKHAT, cv2.getStructuringElement(cv2.MORPH_ELLIPSE, (10, 10)))\n",
    "plt.imshow(srubki, 'gray')\n",
    "plt.axis('off')\n",
    "plt.show()\n",
    "plt.imshow(srubki_black_hat, 'gray')\n",
    "plt.axis('off')\n",
    "plt.show()"
   ]
  },
  {
   "cell_type": "code",
   "execution_count": null,
   "metadata": {},
   "outputs": [],
   "source": [
    "srubki_binary = np.where(srubki_black_hat > 10, srubki_black_hat, 0).astype('uint8')\n",
    "srubki_binary[:,310:] = cv2.dilate(srubki_binary[:,310:], cv2.getStructuringElement(cv2.MORPH_RECT, (3, 3)))\n",
    "srubki_binary[:,:310] = cv2.dilate(srubki_binary[:,:310], cv2.getStructuringElement(cv2.MORPH_ELLIPSE, (3, 3)))\n",
    "srubki_binary = cv2.erode(srubki_binary, cv2.getStructuringElement(cv2.MORPH_RECT, (3, 3)))\n",
    "plt.imshow(srubki_binary, 'gray')\n",
    "plt.axis('off')\n",
    "plt.show()"
   ]
  },
  {
   "cell_type": "code",
   "execution_count": null,
   "metadata": {},
   "outputs": [],
   "source": [
    "totalLabels, srubki_connected, values, centroids = cv2.connectedComponentsWithStats(srubki_binary, 4, cv2.CV_32S)\n",
    "plt.imshow(srubki_connected, 'gray')\n",
    "plt.axis('off')\n",
    "plt.show()\n",
    "srubki_copy = srubki_connected.copy()\n",
    "for label_num in range(1, totalLabels):\n",
    "    cv2.putText(srubki_copy,str(label_num),(int(centroids[label_num,0]),int(centroids[label_num,1])),cv2.FONT_HERSHEY_SIMPLEX,1,(20,0,0),2)\n",
    "plt.imshow(srubki_copy, 'gray')\n",
    "plt.axis('off')\n",
    "plt.show()"
   ]
  },
  {
   "cell_type": "code",
   "execution_count": null,
   "metadata": {},
   "outputs": [],
   "source": [
    "# blank = np.zeros(shape=srubki_connected.shape)\n",
    "# for i in range(1, totalLabels):\n",
    "#     img = (srubki_connected==i)\n",
    "#     img = img.astype('uint8')\n",
    "#     momenty = cv2.moments(img)\n",
    "#     momentyHu = cv2.HuMoments(momenty)\n",
    "#     print(momenty)\n",
    "#     print(momentyHu)\n",
    "#     plt.imshow(img, 'gray')\n",
    "#     plt.axis('off')\n",
    "#     plt.show()"
   ]
  },
  {
   "cell_type": "code",
   "execution_count": null,
   "metadata": {},
   "outputs": [],
   "source": [
    "blank = np.zeros(shape=srubki_connected.shape)\n",
    "for i in range(1, totalLabels):\n",
    "    img = (srubki_connected==i)\n",
    "    img = img.astype('uint8')\n",
    "    momenty = cv2.moments(img)\n",
    "    momentyHu = cv2.HuMoments(momenty)\n",
    "    if 2.87e-01 < momentyHu[0] < 3.93e-01 and 493 < momenty['m00'] < 831: \n",
    "        blank += img\n",
    "\n",
    "plt.imshow(blank, 'gray')\n",
    "plt.axis('off')\n",
    "plt.title(\"Śrubki\")\n",
    "plt.show()"
   ]
  },
  {
   "cell_type": "code",
   "execution_count": null,
   "metadata": {},
   "outputs": [],
   "source": [
    "blank = np.zeros(shape=srubki_connected.shape)\n",
    "for i in range(1, totalLabels):\n",
    "    img = (srubki_connected==i)\n",
    "    img = img.astype('uint8')\n",
    "    momenty = cv2.moments(img)\n",
    "    momentyHu = cv2.HuMoments(momenty)\n",
    "    if 1.96e-01 < momentyHu[0] <1.99e-01 or 2.01e-01 < momentyHu[0] < 2.66e-01 and 252 < momenty['m00'] < 666 or 668 < momenty['m00'] < 705: \n",
    "        blank += img\n",
    "\n",
    "plt.imshow(blank, 'gray')\n",
    "plt.axis('off')\n",
    "plt.title(\"Podkładki\")\n",
    "plt.show()"
   ]
  },
  {
   "cell_type": "code",
   "execution_count": null,
   "metadata": {},
   "outputs": [],
   "source": [
    "blank = np.zeros(shape=srubki_connected.shape)\n",
    "for i in range(1, totalLabels):\n",
    "    img = (srubki_connected==i)\n",
    "    img = img.astype('uint8')\n",
    "    momenty = cv2.moments(img)\n",
    "    momentyHu = cv2.HuMoments(momenty)\n",
    "    if (1.79e-01 < momentyHu[0] < 1.96e-01 or 1.98e-01< momentyHu[0] < 2.01e-01) and (301 < momenty['m00'] < 704 or 706 < momenty['m00'] < 802): \n",
    "        blank += img\n",
    "\n",
    "plt.imshow(blank, 'gray')\n",
    "plt.axis('off')\n",
    "plt.title(\"Nakrętki\")\n",
    "plt.show()"
   ]
  }
 ],
 "metadata": {
  "kernelspec": {
   "display_name": "Python 3",
   "language": "python",
   "name": "python3"
  },
  "language_info": {
   "codemirror_mode": {
    "name": "ipython",
    "version": 3
   },
   "file_extension": ".py",
   "mimetype": "text/x-python",
   "name": "python",
   "nbconvert_exporter": "python",
   "pygments_lexer": "ipython3",
   "version": "3.8.10"
  },
  "orig_nbformat": 4
 },
 "nbformat": 4,
 "nbformat_minor": 2
}

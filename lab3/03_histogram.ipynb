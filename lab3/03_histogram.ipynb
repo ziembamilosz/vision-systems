{
 "cells": [
  {
   "cell_type": "markdown",
   "metadata": {
    "pycharm": {
     "name": "#%% md\n"
    }
   },
   "source": [
    "# Histogram obrazu. Wyrównywanie histogramu."
   ]
  },
  {
   "cell_type": "markdown",
   "metadata": {
    "collapsed": false,
    "pycharm": {
     "name": "#%% md\n"
    }
   },
   "source": [
    "## Cel ćwiczenia\n",
    "\n",
    "- Zapoznanie z pojęciem histogramu obrazu (w odcieniach szarości i kolorze).\n",
    "- Zapoznanie z metodami modyfikacji histogramu (rozciąganie, wyrównywanie, dopasowywanie)."
   ]
  },
  {
   "cell_type": "markdown",
   "metadata": {
    "collapsed": false,
    "pycharm": {
     "name": "#%% md\n"
    }
   },
   "source": [
    "## Histogram\n",
    "\n",
    "- Histogramem obrazu nazywamy wykres słupkowy zdefiniowany następującymi zależnościami:<br>\n",
    "\\begin{equation}\n",
    "h(i) = \\sum_{x=0}^{N-1} \\sum_{y=0}^{M-1} p(i,(x,y))\n",
    "\\end{equation}<br>\n",
    "gdzie:<br>\n",
    "\\begin{equation}\n",
    "p(i) =  \\left\\{\n",
    "  \\begin{array}{l l}\n",
    "    1 & \\quad \\text{gdy} f(x,y) = i\\\\\n",
    "    0 & \\quad \\text{gdy} f(x,y) \\ne i\n",
    "  \\end{array} \\right.\n",
    "\\end{equation}\n",
    "\n",
    "- Inaczej mówiąc, histogram zawiera informacje na temat tego ile pikseli o danym poziomie jasności występuje na obrazie (w przypadku obrazu w odcieniach szarości). Określa się to także rozkładem empirycznym cechy.\n",
    "\n",
    "- Często wykorzystuje się tzw. znormalizowaną postać histogramu  – wszystkie wartości $h(i)$ są dzielone przez liczbę pikseli na obrazie.\n",
    "Otrzymana w ten sposób wielkość to gęstość prawdopodobieństwa wystąpienia na obrazie pikseli o odcieniu $i$.\n",
    "\n",
    "- Histogram można zdefiniować również dla obrazów kolorowych.\n",
    "Otrzymujemy wtedy 3 histogramy – po jednym dla danej składowej: R,G,B (lub HSV, YCbCr, itp.) lub histogram trójwymiarowy.\n",
    "\n",
    "- Histogram jest bardzo użyteczny w przetwarzaniu i analizie obrazów.\n",
    "Wykorzystywany jest przy binaryzacji (szerzej na jednym z kolejnych laboratoriów) oraz do oceny jakości (dynamiki, kontrastu) obrazu.\n",
    "W idealnym przypadku wszystkie poziomy jasności w obrazie powinny być wykorzystane (i to najlepiej w miarę jednolicie)  – obrazowo mówiąc histogram powinien rozciągać się od 0  – 255 (obraz w skali szarości).\n",
    "\n",
    "- W przypadku gdy  wykorzystujemy jedynie fragment dostępnego zakresu (wąski histogram)  lub histogram nie jest jednolity (występują dominujące grupy pikseli) obraz ma dość słaby kontrast.\n",
    "Cechę tę można poprawić stosując tzw. rozciąganie albo wyrównywanie histogramu (ang. *histogram equalization*).</div>"
   ]
  },
  {
   "cell_type": "markdown",
   "metadata": {
    "collapsed": false,
    "pycharm": {
     "name": "#%% md\n"
    }
   },
   "source": [
    "## Histogram dla obrazów w odcieniach szarości\n",
    "\n",
    "1. Zaimportuj potrzebne biblioteki: *OpenCV*, *pyplot* z *matplotlib* i *numpy*.\n",
    "        import cv2\n",
    "        from matplotlib import pyplot as plt\n",
    "        import numpy as np\n",
    "2. Wczytaj obrazy *lenaX.bmp* w skali szarości. *X* jest numerem wczytywanego obrazu (1 - 4).\n",
    "        I = cv2.imread('lenaX.bmp', cv2.IMREAD_GRAYSCALE)\n",
    "3. Oblicz histogram wczytanego obrazu wykorzystując funkcję `cv2.calcHist`.\n",
    "    - Pierwszym argumentem jest obraz, dla którego obliczony zostanie histogram.\n",
    "    Należy go przekazać w nawiasie kwadratowym.\n",
    "    - Drugim argumentem jest numer kanału, dla którego ma zostać obliczony histogram.\n",
    "    Również powinien być przekazany w nawiasie kwadratowym.\n",
    "    - Trzeci argument oznacza maskę, czyli obszar, dla którego ma zostać wyznaczony histogram.\n",
    "    Aby obliczyć dla całego obrazu należy przekazać *None*.\n",
    "    - Czwartym argumentem jest rozmiar histogramu (liczba przedziałów).\n",
    "    Argument powinien być w nawiasie kwadratowym. Dla pełnej skali należy przekazać wartość *256*.\n",
    "    - Ostatnim argumentem jest zakres wartości. Dla obrazów typu *uint8* powinien on wynosić *[0, 256]*.\n",
    "    - Funkcja zwraca obliczony histogram.\n",
    "4. Wyświetl wczytane obrazy i ich histogramy w jednym oknie. Użyj `plt.subplot()` w celu stworzenia siatki wykresów.\n",
    "        figLena, axsLena = plt.subplots(2, 4)\n",
    "Rozmiar utworzonego okna można zmienić wykorzystując instrukcję (uwaga w calach -  1 cal to 2.54cm):\n",
    "        figLena.set_size_inches(20, 10)\n",
    "Przykładowe wyświetlenie obrazu:\n",
    "        axsLena[0, 0].imshow(I1, 'gray', vmin=0, vmax=256)\n",
    "        axsLena[0, 0].axis('off')\n",
    "Przykładowe wyświetlenie histogramu:\n",
    "        axsLena[1, 0].plot(H1)\n",
    "        axsLena[1, 0].grid()\n",
    "5. Przeanalizuj (dokładnie) związek histogramu z jasnością i ostrością obrazu (tu rozumianą jako subiektywne odczucie)."
   ]
  },
  {
   "cell_type": "code",
   "execution_count": null,
   "metadata": {
    "pycharm": {
     "name": "#%% Zadanie 1 - wyświetlanie\n"
    }
   },
   "outputs": [],
   "source": [
    "import cv2\n",
    "import os\n",
    "from matplotlib import pyplot as plt\n",
    "import numpy as np\n",
    "\n",
    "if not os.path.exists(\"lena1.bmp\") :\n",
    "    !wget https://raw.githubusercontent.com/vision-agh/poc_sw/master/03_Histogram/lena1.bmp --no-check-certificate\n",
    "\n",
    "if not os.path.exists(\"lena2.bmp\") :\n",
    "    !wget https://raw.githubusercontent.com/vision-agh/poc_sw/master/03_Histogram/lena2.bmp --no-check-certificate\n",
    "\n",
    "if not os.path.exists(\"lena3.bmp\") :\n",
    "    !wget https://raw.githubusercontent.com/vision-agh/poc_sw/master/03_Histogram/lena3.bmp --no-check-certificate\n",
    "\n",
    "if not os.path.exists(\"lena4.bmp\") :\n",
    "    !wget https://raw.githubusercontent.com/vision-agh/poc_sw/master/03_Histogram/lena4.bmp --no-check-certificate\n",
    "\n"
   ]
  },
  {
   "cell_type": "code",
   "execution_count": null,
   "metadata": {},
   "outputs": [],
   "source": [
    "I1 = cv2.imread('lena1.bmp', cv2.IMREAD_GRAYSCALE)\n",
    "I2 = cv2.imread('lena2.bmp', cv2.IMREAD_GRAYSCALE)\n",
    "I3 = cv2.imread('lena3.bmp', cv2.IMREAD_GRAYSCALE)\n",
    "I4 = cv2.imread('lena4.bmp', cv2.IMREAD_GRAYSCALE)\n",
    "\n",
    "plt.imshow(I1)\n",
    "plt.xticks([]), plt.yticks([])\n",
    "plt.gray()\n",
    "plt.show()\n",
    "\n",
    "plt.imshow(I2)\n",
    "plt.xticks([]), plt.yticks([])\n",
    "plt.gray()\n",
    "plt.show()\n",
    "\n",
    "plt.imshow(I3)\n",
    "plt.xticks([]), plt.yticks([])\n",
    "plt.gray()\n",
    "plt.show()\n",
    "\n",
    "plt.imshow(I4)\n",
    "plt.xticks([]), plt.yticks([])\n",
    "plt.gray()\n",
    "plt.show()"
   ]
  },
  {
   "cell_type": "code",
   "execution_count": null,
   "metadata": {},
   "outputs": [],
   "source": [
    "plt.figure(figsize=(20, 40))\n",
    "\n",
    "ax = plt.subplot(4, 2, 1)\n",
    "I1_hist = cv2.calcHist([I1], [0], None, [256], [0, 256])\n",
    "ax.plot(I1_hist)\n",
    "ax.set_title(label='Histogram')\n",
    "plt.grid()\n",
    "\n",
    "ax = plt.subplot(4, 2, 2)\n",
    "plt.imshow(I1, 'gray', vmin=0, vmax=256)\n",
    "plt.xticks([]), plt.yticks([])\n",
    "\n",
    "ax = plt.subplot(4, 2, 3)\n",
    "I2_hist = cv2.calcHist([I2], [0], None, [256], [0, 256])\n",
    "ax.plot(I2_hist)\n",
    "ax.set_title(label='Histogram')\n",
    "plt.grid()\n",
    "\n",
    "ax = plt.subplot(4, 2, 4)\n",
    "plt.imshow(I2, 'gray', vmin=0, vmax=256)\n",
    "plt.xticks([]), plt.yticks([])\n",
    "\n",
    "ax = plt.subplot(4, 2, 5)\n",
    "I3_hist = cv2.calcHist([I3], [0], None, [256], [0, 256])\n",
    "ax.plot(I3_hist)\n",
    "ax.set_title(label='Histogram')\n",
    "plt.grid()\n",
    "\n",
    "ax = plt.subplot(4, 2, 6)\n",
    "plt.imshow(I3, 'gray', vmin=0, vmax=256)\n",
    "plt.xticks([]), plt.yticks([])\n",
    "\n",
    "ax = plt.subplot(4, 2, 7)\n",
    "I4_hist = cv2.calcHist([I4], [0], None, [256], [0, 256])\n",
    "ax.plot(I4_hist)\n",
    "ax.set_title(label='Histogram')\n",
    "plt.grid()\n",
    "\n",
    "ax = plt.subplot(4, 2, 8)\n",
    "plt.imshow(I4, 'gray', vmin=0, vmax=256)\n",
    "plt.xticks([]), plt.yticks([])\n",
    "plt.show()"
   ]
  },
  {
   "cell_type": "markdown",
   "metadata": {
    "collapsed": false,
    "pycharm": {
     "name": "#%% md\n"
    }
   },
   "source": [
    "## Rozciąganie histogramu\n",
    "\n",
    "Najprostszą metodą poprawienia jakości obrazu jest tzw. rozciągnięcie histogramu.\n",
    "Polega na przeskalowaniu wartości pikseli w obrazie tak, aby wykorzystać cały dostępny zakres [0-255] (oczywiście w przypadku obrazów w odcieniach szarości w reprezentacji 8-bitowej).\n",
    "\n",
    "1. Wczytaj obraz *hist1.bmp* w skali szarości.\n",
    "Oblicz i wyświetl histogram rozpatrywanego obrazu (na wspólnym rysunku z obrazem).\n",
    "Zwróć uwagę na ilość widocznych szczegółów.\n",
    "2. Rozciągnij histogram obrazu. W tym celu można wykorzystać funkcję `cv2.normalize`.\n",
    "    - Pierwszym argumentem funkcji jest obraz poddawany operacji.\n",
    "    - Drugim argumentem jest tablica do której zostanie wpisany wynik.\n",
    "    Należy ją najpierw zainicjalizować.\n",
    "    Najlepiej zrobić to funkcją `np.zeros`, której pierwszym argumentem jest rozmiar obrazu (`I.shape`), a drugim typ danych (`uint8`).\n",
    "    Można również przekazać `None`, a wynik przypisać do nowej zmiennej.\n",
    "    - Trzecim argumentem jest minimalna wartość po normalizacji.\n",
    "    - Czwartym argumentem jest wartość maksymalna po normalizacji.\n",
    "    - Ostatnim argumentem jest typ wykorzystanej normy (uogólnienie pojęcia długości wektora).\n",
    "    Należy wykorzystać normę `cv2.NORM_MINMAX`.\n",
    "3. Rezultat operacji wyświetl (obraz i jego histogram).\n",
    "4. Czy ilość \"widocznych\" szczegółów uległa zmianie?"
   ]
  },
  {
   "cell_type": "code",
   "execution_count": null,
   "metadata": {
    "collapsed": false,
    "pycharm": {
     "name": "#%% Zadanie 2 - rozciąganie\n"
    }
   },
   "outputs": [],
   "source": [
    "if not os.path.exists(\"hist1.bmp\") :\n",
    "    !wget https://raw.githubusercontent.com/vision-agh/poc_sw/master/03_Histogram/hist1.bmp --no-check-certificate\n",
    "\n",
    "if not os.path.exists(\"hist2.bmp\") :\n",
    "    !wget https://raw.githubusercontent.com/vision-agh/poc_sw/master/03_Histogram/hist2.bmp --no-check-certificate\n",
    "\n",
    "if not os.path.exists(\"hist3.bmp\") :\n",
    "    !wget https://raw.githubusercontent.com/vision-agh/poc_sw/master/03_Histogram/hist3.bmp --no-check-certificate\n",
    "\n",
    "if not os.path.exists(\"hist4.bmp\") :\n",
    "    !wget https://raw.githubusercontent.com/vision-agh/poc_sw/master/03_Histogram/hist4.bmp --no-check-certificate\n",
    "\n"
   ]
  },
  {
   "cell_type": "code",
   "execution_count": null,
   "metadata": {},
   "outputs": [],
   "source": [
    "I1 = cv2.imread('hist1.bmp')\n",
    "I2 = cv2.imread('hist2.bmp')\n",
    "I3 = cv2.imread('hist3.bmp')\n",
    "I4 = cv2.imread('hist4.bmp')\n",
    "for I in [I1, I2, I3, I4]:    \n",
    "    I_hist = cv2.calcHist([I], [0], None, [256], [0, 256])\n",
    "\n",
    "    plt.figure(figsize=(20, 8))\n",
    "    ax = plt.subplot(1, 2, 1)\n",
    "    ax.plot(I_hist)\n",
    "    ax.set_title(label='Zwykły histogram')\n",
    "    plt.grid()\n",
    "\n",
    "    ax = plt.subplot(1, 2, 2)\n",
    "    ax.imshow(I)\n",
    "\n",
    "    plt.xticks([]), plt.yticks([])\n",
    "    plt.show()\n",
    "\n",
    "    I_normalized = np.zeros(I.shape, dtype='uint8')\n",
    "    cv2.normalize(I, I_normalized, 0, 255, cv2.NORM_MINMAX)\n",
    "    I_normalized_hist = cv2.calcHist([I_normalized], [0], None, [256], [0, 256])\n",
    "\n",
    "    plt.figure(figsize=(20, 8))\n",
    "    ax = plt.subplot(1, 2, 1)\n",
    "    ax.plot(I_normalized_hist)\n",
    "    ax.set_title(label='Rozciągniety histogram')\n",
    "    plt.grid()\n",
    "\n",
    "    ax = plt.subplot(1, 2, 2)\n",
    "    ax.imshow(I_normalized)\n",
    "\n",
    "    plt.xticks([]), plt.yticks([])\n",
    "    plt.show()"
   ]
  },
  {
   "cell_type": "markdown",
   "metadata": {
    "collapsed": false,
    "pycharm": {
     "name": "#%% md\n"
    }
   },
   "source": [
    "## Wyrównywanie histogramu\n",
    "\n",
    "<div style=\"text-align: justify\">\n",
    "Bardziej zaawansowaną metodą jest tzw. wyrównywanie histogramu (ang. *histogram equalization – HE*).\n",
    "Idea jest następująca: z punktu widzenia lepszego wykorzystania dostępnych poziomów jasności pożądane jest rozciągnięcie \"szczytów\" histogramu, a~skompresowanie \"dolin\" tak, aby taka sama liczba pikseli reprezentowana była przez każdy z dostępnych poziomów jasności (a przynjamniej przybliżona).\n",
    "Warto zwrócić uwagę, że takie przekształcenie powoduje częściową utratę informacji o szczegółach w obszarach \"dolin\".\n",
    "Inaczej mówiąc, dążymy do sytuacji, aby histogram był względnie jednostajny.\n",
    "Operacją, która pozwala wykonać wyrównywanie histogramu, jest przekształcenie LUT z funkcją przejścia w postaci histogramu skumulowanego danego obrazu.</div><br>\n",
    "\n",
    "<div style=\"text-align: justify\">\n",
    "Histogram skumulowany to funkcja obliczona na podstawie histogramu.\n",
    "Jej pierwszy element to liczba pikseli o odcieniu $0$.\n",
    "Kolejne wartości to liczba pikseli o odcieniach od $0$ do $n$.</div>\n",
    "\n",
    "\\begin{equation}\n",
    "C(n) = \\sum_{i=0}^{n} h(i)\n",
    "\\end{equation}\n",
    "\n",
    "<div style=\"text-align: justify\">\n",
    "Jeżeli histogram jest w postaci znormalizowanej (gęstość rozkładu prawdopodobieństwa) to histogram skumulowany stanowi dystrybuantę rozkładu prawdopodobieństwa.</div><br>\n",
    "\n",
    "1. Wyznacz histogram skumulowany dla obrazu *hist1.bmp*.\n",
    "W tym celu wykorzystaj metodę `cumsum` dla histogramu wczytanego obrazu.\n",
    "Nie przyjmuje ona żadnych argumentów, a zwraca skumulowane wartości tablicy, dla której została użyta.\n",
    "Histogram należy wyliczyć dla **obrazka wejściowego**, a nie dla wyniku rozciągania.\n",
    "2. Histogram skumulowany wyświetl razem z histogramem zwykłym na jednym wykresie (nie obok siebie).\n",
    "Na potrzeby wyświetlenia przeskaluj histogram skumulowany tak, by miał taką samą wartość maksymalną jak zwykły histogram.\n",
    "W tym celu wykorzystaj metodę `max`.\n",
    "3. Wyświetlenie kilku linii na jednym wykresie może być zrealizowane w następujący sposób:\n",
    "        figHistCum, axsHistCum = plt.subplots()\n",
    "\n",
    "        axsHistCum.plot(HHist)\n",
    "        axsHistCum.plot(CHistNorm)\n",
    "        axsHistCum.grid()\n",
    "4. Teraz zaimplementuj klasyczny algorytm wyrównywania histogramu.\n",
    "Wykorzystać należy obliczony histogram skumulowany.\n",
    "Należy go przeskalować w taki sposób aby na jego podstawie zrealizować przekształcenie LUT, czyli do zakresu 0 - 255.\n",
    "\n",
    ">Uwaga. Opisany algorytm wyrównywania histogramu jest wersją uproszczoną.\n",
    ">W wersji pełnej należy podczas skalowania tablicy przekodowań LUT pominąć elementy równe *0*.\n",
    ">\n",
    ">W tym celu należy wykorzystać funkcje `np.ma.masked_equal` i `np.ma.filled`.\n",
    ">Pierwsza służy do ukrywania elementów tablicy, natomiast druga zamienia ukryte elementy na podaną wartość.\n",
    ">W tym przypadku elementem ukrywanym i wpisywaną wartością byłoby *0*.\n",
    "\n",
    "5. Na kolejnym rysunku wyświetl obrazek po przekształceniu, jego histogram oraz histogram skumulowany.\n",
    "Co szczególnego można powiedzieć o jego histogramie i histogramie skumulowanym?\n",
    "6. W bibliotece *OpenCV* dostępna jest funkcja wykonująca wyrównywanie histogramu `cv2.equalizeHist`.\n",
    "Jej argumentem jest obraz, którego histogram zostanie wyrównany. Zwraca natomiast obraz wynikowy.\n",
    "Na kolejnym rysunku wyświetl wynik funkcji, jego histogram oraz histogram skumulowany.\n",
    "7. W wykorzystywanej bibliotece zaimplementowana jest również metoda adaptacyjnego wyrównywania histogramu algorytmem CLAHE (ang. *Contrast Limited Adaptive Histogram Equalization*}.\n",
    "   Kilka słów wyjaśnienia.\n",
    "   Wadą poznanej metody HE jest jej \"globalność\" rozumiana jako nieuwzględnianie lokalnych właściwości obrazu.\n",
    "   Dlatego też powstała metoda adaptacyjnego wyrównywania histogramu (AHE).\n",
    "   Jest ona spotykana w dwóch wariantach:\n",
    "   - dla każdego piksela niezależnie, w pewnym jego otoczeniu, wyznaczany jest histogram i przeprowadzane wyrównywanie.\n",
    "     Jak nietrudno się domyślić rozwiązanie jest dość kosztowne obliczeniowo.\n",
    "   - obraz wejściowy dzielony jest na nienachodzące na siebie prostokątne okna.\n",
    "     W każdym z okien obliczany jest histogram i przeprowadzane jest wyrównywanie.\n",
    "     W celu eliminacji błędów na granicy okien, stosuje się interpolację.\n",
    "\n",
    "   Metoda AHE ma jednak tą wadę, że w obszarach jednorodnych wzmacnia szum.\n",
    "   Dlatego też zaproponowano rozwiązanie CLAHE, które zakłada ograniczenie kontrastu (CL).\n",
    "   W metodzie definiuje się maksymalną wartość danego przedziału histogramu (próg ograniczenia kontrastu).\n",
    "   Piksele, które przekraczają próg są następnie równomiernie rozdzielane pomiędzy poszczególne przedziały.\n",
    "   Bardziej szczegółowy opis obu metod dostępny jest na [Wikipedii](https://en.wikipedia.org/wiki/Adaptive_histogram_equalization).\n",
    "\n",
    "8.W celu użycia algorytmu należy wywołać funkcję `cv2.createCLAHE`.\n",
    "    - Pierwszym parametrem jest próg ograniczenia kontrastu.\n",
    "    - Drugi parametr definiuje na ile prostokątów zostanie podzielony obraz w rzęch i kolumnach.\n",
    "    - Zwracany jest zainicjalizowany *smart pointer* do klasy `cv::CLAHE`.\n",
    "9. Aby wykonać wyrównywanie należy użyć metody `apply`.\n",
    "Jej argumentem jest obraz wejściowy. Zwracany jest obraz o zmodyfikowanym histogramie.\n",
    "10. Przetestuj różne parametry algorytmu CLAHE.\n",
    "11. W kolejnym etapie należy przetestować operacje (rozciąganie, wyrównywanie (HE) i adaptacyjne wyrównywanie CLAHE)  na histogramie dla obrazów rzeczywistych. *hist2.bmp*, *hist3.bmp*, *hist4.jpg*.\n",
    "W jednym oknie wyświetl: obraz oryginalny, rozciąganie, wyrównywanie HE oraz wyrównywanie CLAHE."
   ]
  },
  {
   "cell_type": "code",
   "execution_count": null,
   "metadata": {},
   "outputs": [],
   "source": [
    "I = cv2.imread('hist1.bmp', cv2.IMREAD_GRAYSCALE)\n",
    "I_hist = cv2.calcHist([I], [0], None, [256], [0, 256])\n",
    "I_hist_cum = I_hist.cumsum()\n",
    "I_hist_cum *= I_hist.max()/I_hist_cum.max()\n",
    "\n",
    "plt.figure(figsize=(8, 6))\n",
    "plt.plot(I_hist, label='Histogram')\n",
    "plt.plot(I_hist_cum, label='Histogram skumulowany')\n",
    "plt.grid()\n",
    "plt.title(label='Histogram i histogram skumulowany')\n",
    "plt.legend()\n",
    "plt.show()"
   ]
  },
  {
   "cell_type": "code",
   "execution_count": null,
   "metadata": {},
   "outputs": [],
   "source": [
    "def equalize_histogram_and_plot(image, title=''):\n",
    "    hist = cv2.calcHist([image], [0], None, [256], [0, 256])\n",
    "    hist_cum = hist.cumsum()\n",
    "\n",
    "    plt.figure(figsize=(20, 6))\n",
    "\n",
    "    ax = plt.subplot(1, 3, 1)\n",
    "    ax.imshow(image)\n",
    "    \n",
    "    plt.xticks([]), plt.yticks([])\n",
    "\n",
    "    ax = plt.subplot(1, 3, 2)\n",
    "    ax.plot(hist)\n",
    "    plt.grid()\n",
    "    plt.title(label='Histogram')\n",
    "\n",
    "    ax = plt.subplot(1, 3, 3)\n",
    "    ax.plot(hist_cum)\n",
    "    plt.title(label='Histogram skumulowany')\n",
    "    plt.grid()\n",
    "    plt.suptitle(t=title)\n",
    "    plt.show()"
   ]
  },
  {
   "cell_type": "code",
   "execution_count": null,
   "metadata": {},
   "outputs": [],
   "source": [
    "\n",
    "I_hist_cum_lut = cv2.normalize(I_hist_cum, None, 0, 255, cv2.NORM_MINMAX)\n",
    "I_lut = cv2.LUT(I, I_hist_cum_lut)\n",
    "equalize_histogram_and_plot(I_lut)"
   ]
  },
  {
   "cell_type": "code",
   "execution_count": null,
   "metadata": {},
   "outputs": [],
   "source": [
    "I_equalized = cv2.equalizeHist(I)\n",
    "equalize_histogram_and_plot(I_equalized)"
   ]
  },
  {
   "cell_type": "code",
   "execution_count": null,
   "metadata": {},
   "outputs": [],
   "source": [
    "I_clahe=cv2.createCLAHE(clipLimit=40, tileGridSize=(5,5))\n",
    "I_clahe=I_clahe.apply(I)\n",
    "equalize_histogram_and_plot(I_clahe)"
   ]
  },
  {
   "cell_type": "code",
   "execution_count": null,
   "metadata": {},
   "outputs": [],
   "source": [
    "def compare(I):\n",
    "    I_normalized = cv2.normalize(I, None, 0, 255, cv2.NORM_MINMAX)\n",
    "    equalize_histogram_and_plot(I_normalized, title='Rozciągnięcie')\n",
    "    I_equalized = cv2.equalizeHist(I)\n",
    "    equalize_histogram_and_plot(I_equalized, title='Wyrównanie')\n",
    "    I_clahe=cv2.createCLAHE(clipLimit=40, tileGridSize=(5,5))\n",
    "    I_clahe=I_clahe.apply(I)\n",
    "    equalize_histogram_and_plot(I_clahe, 'Adaptacyjne wyrównanie')"
   ]
  },
  {
   "cell_type": "code",
   "execution_count": null,
   "metadata": {},
   "outputs": [],
   "source": [
    "I2 = cv2.imread('hist2.bmp', cv2.IMREAD_GRAYSCALE)\n",
    "I3 = cv2.imread('hist3.bmp', cv2.IMREAD_GRAYSCALE)\n",
    "I4 = cv2.imread('hist4.bmp', cv2.IMREAD_GRAYSCALE)\n",
    "for img in [I2, I3, I4]:\n",
    "    compare(img)"
   ]
  },
  {
   "cell_type": "markdown",
   "metadata": {
    "collapsed": false,
    "pycharm": {
     "name": "#%% md\n"
    }
   },
   "source": [
    "## Histogram dla obrazów kolorowych i jego wyrównywanie\n",
    "\n",
    "1. Wczytaj obraz *lenaRGB.bmp*.\n",
    "2. Wykonaj konwersję przestrzeni barw z BGR do RGB.\n",
    "3. Wyświetl wczytany obraz oraz histogram dla każdej składowej przestrzeni barw.\n",
    "W tym celu można użyć drugiego argumentu wykorzystywanej funkcji (numer kanału).\n",
    "4. Wykonaj wyrównywanie dla każdej składowej obrazu.\n",
    "Połącz otrzymane składowe w nowy obraz i wyświetl go.\n",
    "Jaka jest zasadnicza wada takiego podejścia?\n",
    "5. Przekształć obraz wejściowy do przestrzeni HSV (flaga `cv2.COLOR_BGR2HSV`).\n",
    "Wyświetl histogramy poszczególnych składowych.\n",
    "Manipulacji dokonujemy na składowej odpowiadającej za jasność, czyli V.\n",
    "Wykonaj wyrównywanie histogramu dla tej składowej.\n",
    "Dokonaj podmiany składowej V i wyświetl rezultat operacji.\n",
    "Uprzednio przeprowadź konwersję HSV->RGB (flaga `cv2.COLOR_HSV2RGB`).\n",
    "6. Wykonaj te same operacje dla obrazu *jezioro.jpg*."
   ]
  },
  {
   "cell_type": "code",
   "execution_count": null,
   "metadata": {
    "collapsed": false,
    "pycharm": {
     "name": "#%% Zadanie 4 - histogram\n"
    }
   },
   "outputs": [],
   "source": [
    "if not os.path.exists(\"lenaRGB.bmp\") :\n",
    "    !wget https://raw.githubusercontent.com/vision-agh/poc_sw/master/03_Histogram/lenaRGB.bmp --no-check-certificate\n",
    "\n",
    "if not os.path.exists(\"jezioro.jpg\") :\n",
    "    !wget https://raw.githubusercontent.com/vision-agh/poc_sw/master/03_Histogram/jezioro.jpg --no-check-certificate"
   ]
  },
  {
   "cell_type": "code",
   "execution_count": null,
   "metadata": {},
   "outputs": [],
   "source": [
    "lenaBGR = cv2.imread('lenaRGB.bmp')\n",
    "\n",
    "lenaRGB = cv2.cvtColor(lenaBGR, cv2.COLOR_BGR2RGB)\n",
    "\n",
    "lenaRGB_hist1 = cv2.calcHist([lenaRGB], [0], None, [256], [0, 256])\n",
    "lenaRGB_hist2 = cv2.calcHist([lenaRGB], [1], None, [256], [0, 256])\n",
    "lenaRGB_hist3 = cv2.calcHist([lenaRGB], [2], None, [256], [0, 256])\n",
    "\n",
    "plt.figure(figsize=(16, 12))\n",
    "ax = plt.subplot(2, 2, 1)\n",
    "ax.imshow(lenaRGB)\n",
    "plt.xticks([]), plt.yticks([])\n",
    "\n",
    "ax = plt.subplot(2, 2, 2)\n",
    "ax.plot(lenaRGB_hist1)\n",
    "plt.grid()\n",
    "\n",
    "ax = plt.subplot(2, 2, 3)\n",
    "ax.plot(lenaRGB_hist2)\n",
    "plt.grid()\n",
    "\n",
    "ax = plt.subplot(2, 2, 4)\n",
    "ax.plot(lenaRGB_hist3)\n",
    "plt.grid()\n",
    "\n",
    "plt.show()"
   ]
  },
  {
   "cell_type": "code",
   "execution_count": null,
   "metadata": {},
   "outputs": [],
   "source": [
    "lenaRGB_equalized1 = cv2.equalizeHist(lenaRGB[:,:,0])\n",
    "lenaRGB_equalized2 = cv2.equalizeHist(lenaRGB[:,:,1])\n",
    "lenaRGB_equalized3 = cv2.equalizeHist(lenaRGB[:,:,2])\n",
    "\n",
    "together = np.zeros(lenaRGB.shape)\n",
    "together[:,:,0] += lenaRGB_equalized1\n",
    "together[:,:,1] += lenaRGB_equalized2\n",
    "together[:,:,2] += lenaRGB_equalized3\n",
    "\n",
    "together=cv2.normalize(together,None,0,255,cv2.NORM_MINMAX)\n",
    "together=together.astype('uint8')\n",
    "\n",
    "plt.imshow(together)\n",
    "plt.xticks([]), plt.yticks([])\n",
    "plt.show()"
   ]
  },
  {
   "cell_type": "code",
   "execution_count": null,
   "metadata": {},
   "outputs": [],
   "source": [
    "lenaHSV = cv2.cvtColor(lenaBGR, cv2.COLOR_BGR2HSV)\n",
    "lenaHSV_hist1 = cv2.calcHist([lenaHSV], [0], None, [256], [0, 256])\n",
    "lenaHSV_hist2 = cv2.calcHist([lenaHSV], [1], None, [256], [0, 256])\n",
    "lenaHSV_hist3 = cv2.calcHist([lenaHSV], [2], None, [256], [0, 256])\n",
    "\n",
    "plt.figure(figsize=(16, 12))\n",
    "ax = plt.subplot(2, 2, 1)\n",
    "ax.imshow(lenaHSV)\n",
    "plt.xticks([]), plt.yticks([])\n",
    "\n",
    "ax = plt.subplot(2, 2, 2)\n",
    "ax.plot(lenaHSV_hist1)\n",
    "plt.grid()\n",
    "\n",
    "ax = plt.subplot(2, 2, 3)\n",
    "ax.plot(lenaHSV_hist2)\n",
    "plt.grid()\n",
    "\n",
    "ax = plt.subplot(2, 2, 4)\n",
    "ax.plot(lenaHSV_hist3)\n",
    "plt.grid()\n",
    "\n",
    "plt.show()"
   ]
  },
  {
   "cell_type": "code",
   "execution_count": null,
   "metadata": {},
   "outputs": [],
   "source": [
    "lenaBGR = cv2.imread('lenaRGB.bmp')\n",
    "lenaHSV = cv2.cvtColor(lenaBGR, cv2.COLOR_BGR2HSV)\n",
    "lenaHSV[:,:,2] = cv2.equalizeHist(lenaHSV[:,:,2])\n",
    "\n",
    "lenaRGB_normalized = cv2.cvtColor(lenaHSV, cv2.COLOR_HSV2RGB)\n",
    "lenaRGB_normalized = cv2.normalize(lenaRGB_normalized, None, 0, 255, cv2.NORM_MINMAX)\n",
    "lenaRGB_normalized = lenaRGB_normalized.astype('uint8')\n",
    "\n",
    "plt.imshow(lenaRGB_normalized)\n",
    "plt.xticks([]), plt.yticks([])\n",
    "plt.show()"
   ]
  },
  {
   "cell_type": "code",
   "execution_count": null,
   "metadata": {},
   "outputs": [],
   "source": [
    "jezioroBGR = cv2.imread('jezioro.jpg')\n",
    "jezioroRGB = cv2.cvtColor(jezioroBGR, cv2.COLOR_BGR2RGB)\n",
    "\n",
    "jezioroRGB_hist1 = cv2.calcHist([jezioroRGB], [0], None, [256], [0, 256])\n",
    "jezioroRGB_hist2 = cv2.calcHist([jezioroRGB], [1], None, [256], [0, 256])\n",
    "jezioroRGB_hist3 = cv2.calcHist([jezioroRGB], [2], None, [256], [0, 256])\n",
    "\n",
    "plt.figure(figsize=(16, 12))\n",
    "ax = plt.subplot(2, 2, 1)\n",
    "ax.imshow(jezioroRGB)\n",
    "plt.xticks([]), plt.yticks([])\n",
    "\n",
    "ax = plt.subplot(2, 2, 2)\n",
    "ax.plot(jezioroRGB_hist1)\n",
    "plt.grid()\n",
    "\n",
    "ax = plt.subplot(2, 2, 3)\n",
    "ax.plot(jezioroRGB_hist2)\n",
    "plt.grid()\n",
    "\n",
    "ax = plt.subplot(2, 2, 4)\n",
    "ax.plot(jezioroRGB_hist3)\n",
    "plt.grid()\n",
    "\n",
    "plt.show()"
   ]
  },
  {
   "cell_type": "code",
   "execution_count": null,
   "metadata": {},
   "outputs": [],
   "source": [
    "jezioroRGB_equalized1 = cv2.equalizeHist(jezioroRGB[:,:,0])\n",
    "jezioroRGB_equalized2 = cv2.equalizeHist(jezioroRGB[:,:,1])\n",
    "jezioroRGB_equalized3 = cv2.equalizeHist(jezioroRGB[:,:,2])\n",
    "\n",
    "together = np.zeros(jezioroRGB.shape)\n",
    "together[:,:,0] += jezioroRGB_equalized1\n",
    "together[:,:,1] += jezioroRGB_equalized2\n",
    "together[:,:,2] += jezioroRGB_equalized3\n",
    "\n",
    "together=cv2.normalize(together,None,0,255,cv2.NORM_MINMAX)\n",
    "together=together.astype('uint8')\n",
    "\n",
    "plt.imshow(together)\n",
    "plt.xticks([]), plt.yticks([])\n",
    "plt.show()"
   ]
  },
  {
   "cell_type": "code",
   "execution_count": null,
   "metadata": {},
   "outputs": [],
   "source": [
    "jezioroHSV = cv2.cvtColor(jezioroBGR, cv2.COLOR_BGR2HSV)\n",
    "jezioroHSV_hist1 = cv2.calcHist([jezioroHSV], [0], None, [256], [0, 256])\n",
    "jezioroHSV_hist2 = cv2.calcHist([jezioroHSV], [1], None, [256], [0, 256])\n",
    "jezioroHSV_hist3 = cv2.calcHist([jezioroHSV], [2], None, [256], [0, 256])\n",
    "\n",
    "plt.figure(figsize=(16, 12))\n",
    "ax = plt.subplot(2, 2, 1)\n",
    "ax.imshow(jezioroHSV)\n",
    "plt.xticks([]), plt.yticks([])\n",
    "\n",
    "ax = plt.subplot(2, 2, 2)\n",
    "ax.plot(jezioroHSV_hist1)\n",
    "plt.grid()\n",
    "\n",
    "ax = plt.subplot(2, 2, 3)\n",
    "ax.plot(jezioroHSV_hist2)\n",
    "plt.grid()\n",
    "\n",
    "ax = plt.subplot(2, 2, 4)\n",
    "ax.plot(jezioroHSV_hist3)\n",
    "plt.grid()\n",
    "\n",
    "plt.show()"
   ]
  },
  {
   "cell_type": "code",
   "execution_count": null,
   "metadata": {},
   "outputs": [],
   "source": [
    "jezioroBGR = cv2.imread('jezioro.jpg')\n",
    "jezioroHSV = cv2.cvtColor(jezioroBGR, cv2.COLOR_BGR2HSV)\n",
    "jezioroHSV[:,:,2] = cv2.equalizeHist(jezioroHSV[:,:,2])\n",
    "\n",
    "jezioroRGB_normalized = cv2.cvtColor(jezioroHSV, cv2.COLOR_HSV2RGB)\n",
    "jezioroRGB_normalized = cv2.normalize(jezioroRGB_normalized, None, 0, 255, cv2.NORM_MINMAX)\n",
    "jezioroRGB_normalized = jezioroRGB_normalized.astype('uint8')\n",
    "\n",
    "plt.imshow(jezioroRGB_normalized)\n",
    "plt.xticks([]), plt.yticks([])\n",
    "plt.show()"
   ]
  }
 ],
 "metadata": {
  "kernelspec": {
   "display_name": "Python 3",
   "language": "python",
   "name": "python3"
  },
  "language_info": {
   "codemirror_mode": {
    "name": "ipython",
    "version": 3
   },
   "file_extension": ".py",
   "mimetype": "text/x-python",
   "name": "python",
   "nbconvert_exporter": "python",
   "pygments_lexer": "ipython3",
   "version": "3.8.10"
  }
 },
 "nbformat": 4,
 "nbformat_minor": 4
}
